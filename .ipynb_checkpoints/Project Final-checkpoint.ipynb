{
 "cells": [
  {
   "cell_type": "code",
   "execution_count": 1,
   "metadata": {},
   "outputs": [],
   "source": [
    "#importing necesary packaged\n",
    "import json\n",
    "import pandas as pd\n",
    "\n",
    "from ari import ari_to_features\n",
    "import pandas as pd\n",
    "from tqdm import tqdm\n",
    "import re"
   ]
  },
  {
   "cell_type": "markdown",
   "metadata": {},
   "source": [
    "### importing the first 1000 playlists in to a variable called json"
   ]
  },
  {
   "cell_type": "code",
   "execution_count": 2,
   "metadata": {},
   "outputs": [],
   "source": [
    "#Loading the first json file, with the forst 1000 playlist into a variable\n",
    "with open('/Users/jovitagandhi/Python - In class/Capstone 1 - Spotify recommendation system/mpd.slice.0-999.json') as f:\n",
    "    data = json.load(f)"
   ]
  },
  {
   "cell_type": "markdown",
   "metadata": {},
   "source": [
    "### Now flatenning it all into a dataframe\n",
    "- To do this, we run a for aloop thorugh the entire json file, and use every playlist level information and song level information to the dataframe, in one row"
   ]
  },
  {
   "cell_type": "code",
   "execution_count": 3,
   "metadata": {},
   "outputs": [],
   "source": [
    "#running a loop to save it all into one dataframe\n",
    "# Create an empty list to store the flattened playlists\n",
    "flattened_playlists = []\n",
    "\n",
    "# Iterate over each playlist\n",
    "for playlist in data['playlists']:\n",
    "\n",
    "    # Iterate over each track in the playlist\n",
    "    for track in playlist['tracks']:\n",
    "\n",
    "        # Create a new dictionary to store the flattened data\n",
    "        flattened_data = {}\n",
    "\n",
    "        # Add the playlist-level data to the flattened dictionary\n",
    "        flattened_data['pid'] = playlist['pid']\n",
    "        flattened_data['name'] = playlist['name']\n",
    "        flattened_data['collaborative'] = playlist['collaborative']\n",
    "        flattened_data['modified_at'] = playlist['modified_at']\n",
    "        flattened_data['num_tracks'] = playlist['num_tracks']\n",
    "        flattened_data['num_albums'] = playlist['num_albums']\n",
    "        flattened_data['num_followers'] = playlist['num_followers']\n",
    "\n",
    "        # Add the track-level data to the flattened dictionary\n",
    "        flattened_data['pos'] = track['pos']\n",
    "        flattened_data['artist_name'] = track['artist_name']\n",
    "        flattened_data['track_uri'] = track['track_uri']\n",
    "        flattened_data['artist_uri'] = track['artist_uri']\n",
    "        flattened_data['track_name'] = track['track_name']\n",
    "        flattened_data['album_uri'] = track['album_uri']\n",
    "        flattened_data['duration_ms'] = track['duration_ms']\n",
    "        flattened_data['album_name'] = track['album_name']\n",
    "\n",
    "        # Add the flattened data to the list\n",
    "        flattened_playlists.append(flattened_data)\n",
    "\n",
    "# Create a DataFrame from the flattened list of playlists\n",
    "df = pd.DataFrame(flattened_playlists)"
   ]
  },
  {
   "cell_type": "markdown",
   "metadata": {},
   "source": [
    "### now that we stored everything into one data frame, we check the shape, if there are any null values, and if there any duplicates"
   ]
  },
  {
   "cell_type": "code",
   "execution_count": 4,
   "metadata": {},
   "outputs": [
    {
     "data": {
      "text/html": [
       "<div>\n",
       "<style scoped>\n",
       "    .dataframe tbody tr th:only-of-type {\n",
       "        vertical-align: middle;\n",
       "    }\n",
       "\n",
       "    .dataframe tbody tr th {\n",
       "        vertical-align: top;\n",
       "    }\n",
       "\n",
       "    .dataframe thead th {\n",
       "        text-align: right;\n",
       "    }\n",
       "</style>\n",
       "<table border=\"1\" class=\"dataframe\">\n",
       "  <thead>\n",
       "    <tr style=\"text-align: right;\">\n",
       "      <th></th>\n",
       "      <th>pid</th>\n",
       "      <th>name</th>\n",
       "      <th>collaborative</th>\n",
       "      <th>modified_at</th>\n",
       "      <th>num_tracks</th>\n",
       "      <th>num_albums</th>\n",
       "      <th>num_followers</th>\n",
       "      <th>pos</th>\n",
       "      <th>artist_name</th>\n",
       "      <th>track_uri</th>\n",
       "      <th>artist_uri</th>\n",
       "      <th>track_name</th>\n",
       "      <th>album_uri</th>\n",
       "      <th>duration_ms</th>\n",
       "      <th>album_name</th>\n",
       "    </tr>\n",
       "  </thead>\n",
       "  <tbody>\n",
       "    <tr>\n",
       "      <th>0</th>\n",
       "      <td>0</td>\n",
       "      <td>Throwbacks</td>\n",
       "      <td>false</td>\n",
       "      <td>1493424000</td>\n",
       "      <td>52</td>\n",
       "      <td>47</td>\n",
       "      <td>1</td>\n",
       "      <td>0</td>\n",
       "      <td>Missy Elliott</td>\n",
       "      <td>spotify:track:0UaMYEvWZi0ZqiDOoHU3YI</td>\n",
       "      <td>spotify:artist:2wIVse2owClT7go1WT98tk</td>\n",
       "      <td>Lose Control (feat. Ciara &amp; Fat Man Scoop)</td>\n",
       "      <td>spotify:album:6vV5UrXcfyQD1wu4Qo2I9K</td>\n",
       "      <td>226863</td>\n",
       "      <td>The Cookbook</td>\n",
       "    </tr>\n",
       "    <tr>\n",
       "      <th>1</th>\n",
       "      <td>0</td>\n",
       "      <td>Throwbacks</td>\n",
       "      <td>false</td>\n",
       "      <td>1493424000</td>\n",
       "      <td>52</td>\n",
       "      <td>47</td>\n",
       "      <td>1</td>\n",
       "      <td>1</td>\n",
       "      <td>Britney Spears</td>\n",
       "      <td>spotify:track:6I9VzXrHxO9rA9A5euc8Ak</td>\n",
       "      <td>spotify:artist:26dSoYclwsYLMAKD3tpOr4</td>\n",
       "      <td>Toxic</td>\n",
       "      <td>spotify:album:0z7pVBGOD7HCIB7S8eLkLI</td>\n",
       "      <td>198800</td>\n",
       "      <td>In The Zone</td>\n",
       "    </tr>\n",
       "    <tr>\n",
       "      <th>2</th>\n",
       "      <td>0</td>\n",
       "      <td>Throwbacks</td>\n",
       "      <td>false</td>\n",
       "      <td>1493424000</td>\n",
       "      <td>52</td>\n",
       "      <td>47</td>\n",
       "      <td>1</td>\n",
       "      <td>2</td>\n",
       "      <td>Beyoncé</td>\n",
       "      <td>spotify:track:0WqIKmW4BTrj3eJFmnCKMv</td>\n",
       "      <td>spotify:artist:6vWDO969PvNqNYHIOW5v0m</td>\n",
       "      <td>Crazy In Love</td>\n",
       "      <td>spotify:album:25hVFAxTlDvXbx2X2QkUkE</td>\n",
       "      <td>235933</td>\n",
       "      <td>Dangerously In Love (Alben für die Ewigkeit)</td>\n",
       "    </tr>\n",
       "    <tr>\n",
       "      <th>3</th>\n",
       "      <td>0</td>\n",
       "      <td>Throwbacks</td>\n",
       "      <td>false</td>\n",
       "      <td>1493424000</td>\n",
       "      <td>52</td>\n",
       "      <td>47</td>\n",
       "      <td>1</td>\n",
       "      <td>3</td>\n",
       "      <td>Justin Timberlake</td>\n",
       "      <td>spotify:track:1AWQoqb9bSvzTjaLralEkT</td>\n",
       "      <td>spotify:artist:31TPClRtHm23RisEBtV3X7</td>\n",
       "      <td>Rock Your Body</td>\n",
       "      <td>spotify:album:6QPkyl04rXwTGlGlcYaRoW</td>\n",
       "      <td>267266</td>\n",
       "      <td>Justified</td>\n",
       "    </tr>\n",
       "    <tr>\n",
       "      <th>4</th>\n",
       "      <td>0</td>\n",
       "      <td>Throwbacks</td>\n",
       "      <td>false</td>\n",
       "      <td>1493424000</td>\n",
       "      <td>52</td>\n",
       "      <td>47</td>\n",
       "      <td>1</td>\n",
       "      <td>4</td>\n",
       "      <td>Shaggy</td>\n",
       "      <td>spotify:track:1lzr43nnXAijIGYnCT8M8H</td>\n",
       "      <td>spotify:artist:5EvFsr3kj42KNv97ZEnqij</td>\n",
       "      <td>It Wasn't Me</td>\n",
       "      <td>spotify:album:6NmFmPX56pcLBOFMhIiKvF</td>\n",
       "      <td>227600</td>\n",
       "      <td>Hot Shot</td>\n",
       "    </tr>\n",
       "  </tbody>\n",
       "</table>\n",
       "</div>"
      ],
      "text/plain": [
       "   pid        name collaborative  modified_at  num_tracks  num_albums  \\\n",
       "0    0  Throwbacks         false   1493424000          52          47   \n",
       "1    0  Throwbacks         false   1493424000          52          47   \n",
       "2    0  Throwbacks         false   1493424000          52          47   \n",
       "3    0  Throwbacks         false   1493424000          52          47   \n",
       "4    0  Throwbacks         false   1493424000          52          47   \n",
       "\n",
       "   num_followers  pos        artist_name  \\\n",
       "0              1    0      Missy Elliott   \n",
       "1              1    1     Britney Spears   \n",
       "2              1    2            Beyoncé   \n",
       "3              1    3  Justin Timberlake   \n",
       "4              1    4             Shaggy   \n",
       "\n",
       "                              track_uri  \\\n",
       "0  spotify:track:0UaMYEvWZi0ZqiDOoHU3YI   \n",
       "1  spotify:track:6I9VzXrHxO9rA9A5euc8Ak   \n",
       "2  spotify:track:0WqIKmW4BTrj3eJFmnCKMv   \n",
       "3  spotify:track:1AWQoqb9bSvzTjaLralEkT   \n",
       "4  spotify:track:1lzr43nnXAijIGYnCT8M8H   \n",
       "\n",
       "                              artist_uri  \\\n",
       "0  spotify:artist:2wIVse2owClT7go1WT98tk   \n",
       "1  spotify:artist:26dSoYclwsYLMAKD3tpOr4   \n",
       "2  spotify:artist:6vWDO969PvNqNYHIOW5v0m   \n",
       "3  spotify:artist:31TPClRtHm23RisEBtV3X7   \n",
       "4  spotify:artist:5EvFsr3kj42KNv97ZEnqij   \n",
       "\n",
       "                                   track_name  \\\n",
       "0  Lose Control (feat. Ciara & Fat Man Scoop)   \n",
       "1                                       Toxic   \n",
       "2                               Crazy In Love   \n",
       "3                              Rock Your Body   \n",
       "4                                It Wasn't Me   \n",
       "\n",
       "                              album_uri  duration_ms  \\\n",
       "0  spotify:album:6vV5UrXcfyQD1wu4Qo2I9K       226863   \n",
       "1  spotify:album:0z7pVBGOD7HCIB7S8eLkLI       198800   \n",
       "2  spotify:album:25hVFAxTlDvXbx2X2QkUkE       235933   \n",
       "3  spotify:album:6QPkyl04rXwTGlGlcYaRoW       267266   \n",
       "4  spotify:album:6NmFmPX56pcLBOFMhIiKvF       227600   \n",
       "\n",
       "                                     album_name  \n",
       "0                                  The Cookbook  \n",
       "1                                   In The Zone  \n",
       "2  Dangerously In Love (Alben für die Ewigkeit)  \n",
       "3                                     Justified  \n",
       "4                                      Hot Shot  "
      ]
     },
     "execution_count": 4,
     "metadata": {},
     "output_type": "execute_result"
    }
   ],
   "source": [
    "df.head()"
   ]
  },
  {
   "cell_type": "code",
   "execution_count": 5,
   "metadata": {},
   "outputs": [
    {
     "data": {
      "text/plain": [
       "pid              0\n",
       "name             0\n",
       "collaborative    0\n",
       "modified_at      0\n",
       "num_tracks       0\n",
       "num_albums       0\n",
       "num_followers    0\n",
       "pos              0\n",
       "artist_name      0\n",
       "track_uri        0\n",
       "artist_uri       0\n",
       "track_name       0\n",
       "album_uri        0\n",
       "duration_ms      0\n",
       "album_name       0\n",
       "dtype: int64"
      ]
     },
     "execution_count": 5,
     "metadata": {},
     "output_type": "execute_result"
    }
   ],
   "source": [
    "df.isnull().sum()"
   ]
  },
  {
   "cell_type": "code",
   "execution_count": 6,
   "metadata": {},
   "outputs": [
    {
     "data": {
      "text/plain": [
       "(67503, 15)"
      ]
     },
     "execution_count": 6,
     "metadata": {},
     "output_type": "execute_result"
    }
   ],
   "source": [
    "df.shape"
   ]
  },
  {
   "cell_type": "code",
   "execution_count": 7,
   "metadata": {},
   "outputs": [
    {
     "data": {
      "text/plain": [
       "pid               int64\n",
       "name             object\n",
       "collaborative    object\n",
       "modified_at       int64\n",
       "num_tracks        int64\n",
       "num_albums        int64\n",
       "num_followers     int64\n",
       "pos               int64\n",
       "artist_name      object\n",
       "track_uri        object\n",
       "artist_uri       object\n",
       "track_name       object\n",
       "album_uri        object\n",
       "duration_ms       int64\n",
       "album_name       object\n",
       "dtype: object"
      ]
     },
     "execution_count": 7,
     "metadata": {},
     "output_type": "execute_result"
    }
   ],
   "source": [
    "df.dtypes"
   ]
  },
  {
   "cell_type": "code",
   "execution_count": 8,
   "metadata": {},
   "outputs": [
    {
     "data": {
      "text/html": [
       "<div>\n",
       "<style scoped>\n",
       "    .dataframe tbody tr th:only-of-type {\n",
       "        vertical-align: middle;\n",
       "    }\n",
       "\n",
       "    .dataframe tbody tr th {\n",
       "        vertical-align: top;\n",
       "    }\n",
       "\n",
       "    .dataframe thead th {\n",
       "        text-align: right;\n",
       "    }\n",
       "</style>\n",
       "<table border=\"1\" class=\"dataframe\">\n",
       "  <thead>\n",
       "    <tr style=\"text-align: right;\">\n",
       "      <th></th>\n",
       "      <th>pid</th>\n",
       "      <th>modified_at</th>\n",
       "      <th>num_tracks</th>\n",
       "      <th>num_albums</th>\n",
       "      <th>num_followers</th>\n",
       "      <th>pos</th>\n",
       "      <th>duration_ms</th>\n",
       "    </tr>\n",
       "  </thead>\n",
       "  <tbody>\n",
       "    <tr>\n",
       "      <th>count</th>\n",
       "      <td>67503.000000</td>\n",
       "      <td>6.750300e+04</td>\n",
       "      <td>67503.000000</td>\n",
       "      <td>67503.000000</td>\n",
       "      <td>67503.000000</td>\n",
       "      <td>67503.000000</td>\n",
       "      <td>6.750300e+04</td>\n",
       "    </tr>\n",
       "    <tr>\n",
       "      <th>mean</th>\n",
       "      <td>508.371317</td>\n",
       "      <td>1.481839e+09</td>\n",
       "      <td>112.276447</td>\n",
       "      <td>81.050887</td>\n",
       "      <td>3.006829</td>\n",
       "      <td>55.638223</td>\n",
       "      <td>2.331839e+05</td>\n",
       "    </tr>\n",
       "    <tr>\n",
       "      <th>std</th>\n",
       "      <td>286.288365</td>\n",
       "      <td>3.476186e+07</td>\n",
       "      <td>63.771477</td>\n",
       "      <td>49.287440</td>\n",
       "      <td>35.920805</td>\n",
       "      <td>49.051327</td>\n",
       "      <td>6.455234e+04</td>\n",
       "    </tr>\n",
       "    <tr>\n",
       "      <th>min</th>\n",
       "      <td>0.000000</td>\n",
       "      <td>1.322611e+09</td>\n",
       "      <td>5.000000</td>\n",
       "      <td>2.000000</td>\n",
       "      <td>1.000000</td>\n",
       "      <td>0.000000</td>\n",
       "      <td>0.000000e+00</td>\n",
       "    </tr>\n",
       "    <tr>\n",
       "      <th>25%</th>\n",
       "      <td>262.000000</td>\n",
       "      <td>1.469232e+09</td>\n",
       "      <td>57.000000</td>\n",
       "      <td>40.500000</td>\n",
       "      <td>1.000000</td>\n",
       "      <td>17.000000</td>\n",
       "      <td>1.984130e+05</td>\n",
       "    </tr>\n",
       "    <tr>\n",
       "      <th>50%</th>\n",
       "      <td>505.000000</td>\n",
       "      <td>1.496448e+09</td>\n",
       "      <td>104.000000</td>\n",
       "      <td>73.000000</td>\n",
       "      <td>1.000000</td>\n",
       "      <td>41.000000</td>\n",
       "      <td>2.248660e+05</td>\n",
       "    </tr>\n",
       "    <tr>\n",
       "      <th>75%</th>\n",
       "      <td>752.000000</td>\n",
       "      <td>1.507075e+09</td>\n",
       "      <td>159.000000</td>\n",
       "      <td>115.000000</td>\n",
       "      <td>2.000000</td>\n",
       "      <td>82.000000</td>\n",
       "      <td>2.580400e+05</td>\n",
       "    </tr>\n",
       "    <tr>\n",
       "      <th>max</th>\n",
       "      <td>999.000000</td>\n",
       "      <td>1.509494e+09</td>\n",
       "      <td>245.000000</td>\n",
       "      <td>225.000000</td>\n",
       "      <td>1038.000000</td>\n",
       "      <td>244.000000</td>\n",
       "      <td>2.424189e+06</td>\n",
       "    </tr>\n",
       "  </tbody>\n",
       "</table>\n",
       "</div>"
      ],
      "text/plain": [
       "                pid   modified_at    num_tracks    num_albums  num_followers  \\\n",
       "count  67503.000000  6.750300e+04  67503.000000  67503.000000   67503.000000   \n",
       "mean     508.371317  1.481839e+09    112.276447     81.050887       3.006829   \n",
       "std      286.288365  3.476186e+07     63.771477     49.287440      35.920805   \n",
       "min        0.000000  1.322611e+09      5.000000      2.000000       1.000000   \n",
       "25%      262.000000  1.469232e+09     57.000000     40.500000       1.000000   \n",
       "50%      505.000000  1.496448e+09    104.000000     73.000000       1.000000   \n",
       "75%      752.000000  1.507075e+09    159.000000    115.000000       2.000000   \n",
       "max      999.000000  1.509494e+09    245.000000    225.000000    1038.000000   \n",
       "\n",
       "                pos   duration_ms  \n",
       "count  67503.000000  6.750300e+04  \n",
       "mean      55.638223  2.331839e+05  \n",
       "std       49.051327  6.455234e+04  \n",
       "min        0.000000  0.000000e+00  \n",
       "25%       17.000000  1.984130e+05  \n",
       "50%       41.000000  2.248660e+05  \n",
       "75%       82.000000  2.580400e+05  \n",
       "max      244.000000  2.424189e+06  "
      ]
     },
     "execution_count": 8,
     "metadata": {},
     "output_type": "execute_result"
    }
   ],
   "source": [
    "df.describe()"
   ]
  },
  {
   "cell_type": "markdown",
   "metadata": {},
   "source": [
    "### Since we 67503 songs, we stick to using only 1 of the 100 json files provided, die to lack of computational power"
   ]
  },
  {
   "cell_type": "markdown",
   "metadata": {},
   "source": [
    "#### - Using spotify's API, we extract information about each song. The fucntion to do this has been made in ari.py.\n",
    "- To do this, we need to change the \"track_uri\"'s column into a readble format, so we remove the \"spotify:track\""
   ]
  },
  {
   "cell_type": "code",
   "execution_count": 9,
   "metadata": {},
   "outputs": [
    {
     "data": {
      "text/plain": [
       "0        0UaMYEvWZi0ZqiDOoHU3YI\n",
       "1        6I9VzXrHxO9rA9A5euc8Ak\n",
       "2        0WqIKmW4BTrj3eJFmnCKMv\n",
       "3        1AWQoqb9bSvzTjaLralEkT\n",
       "4        1lzr43nnXAijIGYnCT8M8H\n",
       "                  ...          \n",
       "67498    5uCax9HTNlzGybIStD3vDh\n",
       "67499    0P1oO2gREMYUCoOkzYAyFu\n",
       "67500    2oM4BuruDnEvk59IvIXCwn\n",
       "67501    4Ri5TTUgjM96tbQZd5Ua7V\n",
       "67502    5RVuBrXVLptAEbGJdSDzL5\n",
       "Name: track_uri, Length: 67503, dtype: object"
      ]
     },
     "execution_count": 9,
     "metadata": {},
     "output_type": "execute_result"
    }
   ],
   "source": [
    "#first we extract \n",
    "df[\"track_uri\"] = df[\"track_uri\"].apply(lambda x: re.findall(r'\\w+$', x)[0])\n",
    "df[\"track_uri\"]"
   ]
  },
  {
   "cell_type": "code",
   "execution_count": null,
   "metadata": {},
   "outputs": [],
   "source": [
    "#as an example, we first test:\n",
    "#Test the feature extraction script, and display features\n",
    "ari_to_features(df[\"track_uri\"][1275])"
   ]
  },
  {
   "cell_type": "markdown",
   "metadata": {},
   "source": [
    "### now that it's in a legible format, we can extract features about each song, add to this which features"
   ]
  },
  {
   "cell_type": "markdown",
   "metadata": {},
   "source": [
    "#as an example, we first test:\n",
    "#Test the feature extraction script, and display features\n",
    "ari_to_features(df[\"track_uri\"][0])"
   ]
  },
  {
   "cell_type": "markdown",
   "metadata": {},
   "source": [
    "### We will run the code for each track to get these features, and do this by first splitting the data into three different sections,a dn store it back into a dataframe, we split it on the basis of the track_uri, because that's what we're looking for to use to add the features"
   ]
  },
  {
   "cell_type": "code",
   "execution_count": null,
   "metadata": {},
   "outputs": [],
   "source": [
    "first_half = df[\"track_uri\"].unique()[:10]\n",
    "#econd_half = df[\"track_uri\"].unique()[10000:20000]\n",
    "#third_half = df[\"track_uri\"].unique()[20000:]\n",
    "dataLIST = [first_half]"
   ]
  },
  {
   "cell_type": "code",
   "execution_count": null,
   "metadata": {},
   "outputs": [],
   "source": [
    "import time\n",
    "\n",
    "featureLIST = []\n",
    "\n",
    "for i in tqdm([uri for uri in dataLIST[0]]):\n",
    "    try:\n",
    "        start_time = time.time()\n",
    "        feature = ari_to_features(i)\n",
    "        elapsed_time = time.time() - start_time\n",
    "        \n",
    "        if elapsed_time > 5:\n",
    "            print(f\"Skipping track {i}: elapsed time = {elapsed_time:.2f} seconds\")\n",
    "            continue\n",
    "        \n",
    "        featureLIST.append(feature)\n",
    "    except:\n",
    "        continue\n"
   ]
  },
  {
   "cell_type": "markdown",
   "metadata": {},
   "source": [
    "## Now we actually run the code for each of the songs, and add all the features to each song and store it into a new dataframe, df1"
   ]
  },
  {
   "cell_type": "code",
   "execution_count": null,
   "metadata": {},
   "outputs": [],
   "source": [
    "#featureDF = pd.DataFrame(featureLIST)\n",
    "#featureDF"
   ]
  },
  {
   "cell_type": "markdown",
   "metadata": {},
   "source": [
    "## Finalising and Export\n",
    "\n",
    "We finally merge the feature DataFrame with the original dataset, as this also contains useful information in the artist name and track name. This is then exported, as our processed data."
   ]
  },
  {
   "cell_type": "code",
   "execution_count": null,
   "metadata": {},
   "outputs": [],
   "source": [
    "#new_df = pd.merge(testDF,featureDF, left_on = \"track_uri\", right_on= \"id\")"
   ]
  },
  {
   "cell_type": "code",
   "execution_count": null,
   "metadata": {},
   "outputs": [],
   "source": []
  }
 ],
 "metadata": {
  "kernelspec": {
   "display_name": "Python 3 (ipykernel)",
   "language": "python",
   "name": "python3"
  },
  "language_info": {
   "codemirror_mode": {
    "name": "ipython",
    "version": 3
   },
   "file_extension": ".py",
   "mimetype": "text/x-python",
   "name": "python",
   "nbconvert_exporter": "python",
   "pygments_lexer": "ipython3",
   "version": "3.9.12"
  },
  "varInspector": {
   "cols": {
    "lenName": 16,
    "lenType": 16,
    "lenVar": 40
   },
   "kernels_config": {
    "python": {
     "delete_cmd_postfix": "",
     "delete_cmd_prefix": "del ",
     "library": "var_list.py",
     "varRefreshCmd": "print(var_dic_list())"
    },
    "r": {
     "delete_cmd_postfix": ") ",
     "delete_cmd_prefix": "rm(",
     "library": "var_list.r",
     "varRefreshCmd": "cat(var_dic_list()) "
    }
   },
   "types_to_exclude": [
    "module",
    "function",
    "builtin_function_or_method",
    "instance",
    "_Feature"
   ],
   "window_display": false
  },
  "vscode": {
   "interpreter": {
    "hash": "2bc86fefce4ad2a1517b009468b484ae628f79546c618cfb9a3c95678804b362"
   }
  }
 },
 "nbformat": 4,
 "nbformat_minor": 2
}
